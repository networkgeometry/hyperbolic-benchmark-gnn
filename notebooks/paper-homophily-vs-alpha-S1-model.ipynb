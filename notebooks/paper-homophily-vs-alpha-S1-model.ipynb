{
 "cells": [
  {
   "cell_type": "code",
   "execution_count": 1,
   "id": "7c850422",
   "metadata": {},
   "outputs": [],
   "source": [
    "%load_ext autoreload\n",
    "%autoreload 2\n",
    "\n",
    "import matplotlib.pyplot as plt\n",
    "import numpy as np\n",
    "import pandas as pd\n",
    "import glob\n",
    "import seaborn as sns\n",
    "import sys\n",
    "import copy\n",
    "from tqdm.notebook import tqdm\n",
    "from numba import jit\n",
    "from scipy import stats\n",
    "import networkx as nx\n",
    "import re\n",
    "\n",
    "import matplotlib.lines as mlines\n",
    "from matplotlib.patches import Patch\n",
    "from matplotlib.lines import Line2D\n",
    "\n",
    "\n",
    "import warnings\n",
    "warnings.filterwarnings('ignore')\n",
    "\n",
    "plt.style.use('seaborn-deep')\n",
    "plt.rcParams[\"text.usetex\"] = True\n",
    "plt.rcParams['text.latex.preamble'] = r'\\usepackage{amssymb,amsmath}'\n",
    "\n",
    "plt.rcParams[\"figure.figsize\"] = 11.7, 8.3\n",
    "plt.rcParams[\"figure.dpi\"] = 75\n",
    "\n",
    "plt.rcParams[\"font.size\"] = 28\n",
    "plt.rcParams[\"font.family\"] = \"sans-serif\"\n",
    "plt.rcParams[\"font.sans-serif\"] = [\"Fira Sans\", 'PT Sans', 'Open Sans', 'Roboto', 'DejaVu Sans', 'Liberation Sans', 'sans-serif']\n",
    "\n",
    "plt.rcParams[\"legend.frameon\"] = True\n",
    "plt.rcParams[\"legend.fancybox\"] = True\n",
    "plt.rcParams[\"legend.fontsize\"] = \"small\"\n",
    "\n",
    "plt.rcParams[\"lines.linewidth\"] = 2.5\n",
    "plt.rcParams[\"lines.markersize\"] = 14\n",
    "plt.rcParams[\"lines.markeredgewidth\"] = 2\n",
    "\n",
    "plt.rcParams[\"xtick.major.size\"] = 8\n",
    "plt.rcParams[\"ytick.major.size\"] = 8\n"
   ]
  },
  {
   "cell_type": "code",
   "execution_count": 2,
   "id": "025a5365",
   "metadata": {},
   "outputs": [],
   "source": [
    "import math\n",
    "\n",
    "def generate_S1_model(beta, n, gamma, mean_degree=10):\n",
    "    assert beta > 1, \"Beta should be larger than 1\"\n",
    "    \n",
    "    kappa_0 = (\n",
    "        (1 - 1 / n)\n",
    "        / (1 - n ** ((2 - gamma) / (gamma - 1)))\n",
    "        * (gamma - 2)\n",
    "        / (gamma - 1)\n",
    "        * mean_degree\n",
    "    )\n",
    "    base = 1 - 1 / n\n",
    "    power = 1 / (1 - gamma)\n",
    "    kappas = {i: kappa_0 * (1 - np.random.rand() * base) ** power for i in range(n)}\n",
    "\n",
    "    G = nx.Graph()\n",
    "    R = n / (2 * math.pi)\n",
    "\n",
    "    # Approximate values for mu in the thermodynamic limit (when n -> infinity)\n",
    "    mu = beta * math.sin(math.pi / beta) / (2 * math.pi * mean_degree)\n",
    "    \n",
    "    # Generate random positions on a circle\n",
    "    thetas = {k: np.random.uniform(0, 2 * math.pi) for k in kappas}\n",
    "\n",
    "    for u in kappas:\n",
    "        for v in list(G):\n",
    "            angle = math.pi - math.fabs(math.pi - math.fabs(thetas[u] - thetas[v]))\n",
    "            dij = math.pow(R * angle, beta)\n",
    "            mu_kappas = math.pow(mu * kappas[u] * kappas[v], max(1, beta))\n",
    "            p_ij = 1 / (1 + dij / mu_kappas)\n",
    "\n",
    "            # Create an edge with a certain connection probability\n",
    "            if np.random.rand() < p_ij:\n",
    "                G.add_edge(u, v)\n",
    "        G.add_node(u)\n",
    "\n",
    "    nx.set_node_attributes(G, thetas, \"theta\")\n",
    "    nx.set_node_attributes(G, kappas, \"kappa\")\n",
    "\n",
    "    # Map hidden degrees into the radial coordiantes\n",
    "    zeta = 1 if beta > 1 else 1 / beta\n",
    "    kappa_0 = min(list(kappas.values()))\n",
    "    R_c = 2 * max(1, beta) / (beta * zeta)\n",
    "    R_hat = (2 / zeta) * math.log(n / math.pi) - R_c * math.log(mu * kappa_0**2)\n",
    "    radii = {\n",
    "        node: R_hat - R_c * math.log(kappa / kappa_0) for node, kappa in kappas.items()\n",
    "    }\n",
    "    nx.set_node_attributes(G, radii, \"radius\")\n",
    "\n",
    "    return G"
   ]
  },
  {
   "cell_type": "code",
   "execution_count": 3,
   "id": "f387e350",
   "metadata": {},
   "outputs": [],
   "source": [
    "from sklearn.metrics import accuracy_score\n",
    "\n",
    "def generate_random_positions(N):\n",
    "    return np.random.uniform(0, 2*np.pi, size=N)\n",
    "\n",
    "\n",
    "def angle(t1, t2):\n",
    "    return np.pi - np.fabs(np.pi - np.fabs(t1 - t2))\n",
    "\n",
    "\n",
    "def assign_labels(thetas, centers, alpha):\n",
    "    labels = []\n",
    "    for t in thetas:\n",
    "        total_distance = sum([np.power(angle(t, c), -alpha) for c in centers]) \n",
    "        prob = [np.power(angle(t, c), -alpha) / total_distance for c in centers]\n",
    "        l = np.random.choice(len(prob), size=1, p=prob)[0]\n",
    "        labels.append(l)\n",
    "    return labels"
   ]
  },
  {
   "cell_type": "code",
   "execution_count": 4,
   "id": "7060e264",
   "metadata": {},
   "outputs": [],
   "source": [
    "def generate_graph_with_labels(beta, n, gamma, nlabels, alpha):\n",
    "    g = generate_S1_model(beta, n, gamma)\n",
    "    thetas = list(nx.get_node_attributes(g, 'theta').values())\n",
    "    centers = generate_random_positions(nlabels)\n",
    "    labels = assign_labels(thetas, centers, alpha)\n",
    "    nx.set_node_attributes(g, {d: l for d,l in zip(list(g.nodes()), labels)}, 'label')\n",
    "    return g"
   ]
  },
  {
   "cell_type": "code",
   "execution_count": 5,
   "id": "3cc8f50f",
   "metadata": {},
   "outputs": [],
   "source": [
    "def compute_homophily(g):\n",
    "    H = 0\n",
    "    for u in g.nodes():\n",
    "        label = g.nodes[u]['label']\n",
    "        h = 0\n",
    "        neighbours = list(g.neighbors(u))\n",
    "        for n in neighbours:\n",
    "            if g.nodes[n]['label'] == label:\n",
    "                h += 1\n",
    "                \n",
    "        if len(neighbours) > 0:\n",
    "            h /= len(neighbours)\n",
    "        \n",
    "        H += h\n",
    "    H /= len(g)\n",
    "    return H"
   ]
  },
  {
   "cell_type": "code",
   "execution_count": 43,
   "id": "0015b351",
   "metadata": {},
   "outputs": [
    {
     "data": {
      "application/json": {
       "ascii": false,
       "bar_format": null,
       "colour": null,
       "elapsed": 0.004224300384521484,
       "initial": 0,
       "n": 0,
       "ncols": null,
       "nrows": null,
       "postfix": null,
       "prefix": "",
       "rate": null,
       "total": 2,
       "unit": "it",
       "unit_divisor": 1000,
       "unit_scale": false
      },
      "application/vnd.jupyter.widget-view+json": {
       "model_id": "7d91bda182fc4216b068751ff7675a80",
       "version_major": 2,
       "version_minor": 0
      },
      "text/plain": [
       "  0%|          | 0/2 [00:00<?, ?it/s]"
      ]
     },
     "metadata": {},
     "output_type": "display_data"
    },
    {
     "data": {
      "application/json": {
       "ascii": false,
       "bar_format": null,
       "colour": null,
       "elapsed": 0.00474858283996582,
       "initial": 0,
       "n": 0,
       "ncols": null,
       "nrows": null,
       "postfix": null,
       "prefix": "",
       "rate": null,
       "total": 21,
       "unit": "it",
       "unit_divisor": 1000,
       "unit_scale": false
      },
      "application/vnd.jupyter.widget-view+json": {
       "model_id": "6a8bdb854a9541699463c56ecd166064",
       "version_major": 2,
       "version_minor": 0
      },
      "text/plain": [
       "  0%|          | 0/21 [00:00<?, ?it/s]"
      ]
     },
     "metadata": {},
     "output_type": "display_data"
    },
    {
     "data": {
      "application/json": {
       "ascii": false,
       "bar_format": null,
       "colour": null,
       "elapsed": 0.005191326141357422,
       "initial": 0,
       "n": 0,
       "ncols": null,
       "nrows": null,
       "postfix": null,
       "prefix": "",
       "rate": null,
       "total": 21,
       "unit": "it",
       "unit_divisor": 1000,
       "unit_scale": false
      },
      "application/vnd.jupyter.widget-view+json": {
       "model_id": "0e564d1054124fe4ac033d1e61c66ec6",
       "version_major": 2,
       "version_minor": 0
      },
      "text/plain": [
       "  0%|          | 0/21 [00:00<?, ?it/s]"
      ]
     },
     "metadata": {},
     "output_type": "display_data"
    },
    {
     "data": {
      "application/json": {
       "ascii": false,
       "bar_format": null,
       "colour": null,
       "elapsed": 0.0036911964416503906,
       "initial": 0,
       "n": 0,
       "ncols": null,
       "nrows": null,
       "postfix": null,
       "prefix": "",
       "rate": null,
       "total": 21,
       "unit": "it",
       "unit_divisor": 1000,
       "unit_scale": false
      },
      "application/vnd.jupyter.widget-view+json": {
       "model_id": "44dbd9dc84ed4657982e86558e850744",
       "version_major": 2,
       "version_minor": 0
      },
      "text/plain": [
       "  0%|          | 0/21 [00:00<?, ?it/s]"
      ]
     },
     "metadata": {},
     "output_type": "display_data"
    },
    {
     "data": {
      "application/json": {
       "ascii": false,
       "bar_format": null,
       "colour": null,
       "elapsed": 0.003732919692993164,
       "initial": 0,
       "n": 0,
       "ncols": null,
       "nrows": null,
       "postfix": null,
       "prefix": "",
       "rate": null,
       "total": 21,
       "unit": "it",
       "unit_divisor": 1000,
       "unit_scale": false
      },
      "application/vnd.jupyter.widget-view+json": {
       "model_id": "6f698446b91c431cb73dffea2e92f70b",
       "version_major": 2,
       "version_minor": 0
      },
      "text/plain": [
       "  0%|          | 0/21 [00:00<?, ?it/s]"
      ]
     },
     "metadata": {},
     "output_type": "display_data"
    },
    {
     "data": {
      "application/json": {
       "ascii": false,
       "bar_format": null,
       "colour": null,
       "elapsed": 0.0037794113159179688,
       "initial": 0,
       "n": 0,
       "ncols": null,
       "nrows": null,
       "postfix": null,
       "prefix": "",
       "rate": null,
       "total": 21,
       "unit": "it",
       "unit_divisor": 1000,
       "unit_scale": false
      },
      "application/vnd.jupyter.widget-view+json": {
       "model_id": "528018d9363d43aba5726b7f939b1395",
       "version_major": 2,
       "version_minor": 0
      },
      "text/plain": [
       "  0%|          | 0/21 [00:00<?, ?it/s]"
      ]
     },
     "metadata": {},
     "output_type": "display_data"
    },
    {
     "data": {
      "application/json": {
       "ascii": false,
       "bar_format": null,
       "colour": null,
       "elapsed": 0.004438161849975586,
       "initial": 0,
       "n": 0,
       "ncols": null,
       "nrows": null,
       "postfix": null,
       "prefix": "",
       "rate": null,
       "total": 21,
       "unit": "it",
       "unit_divisor": 1000,
       "unit_scale": false
      },
      "application/vnd.jupyter.widget-view+json": {
       "model_id": "cb486331f1e14cf388cf4b39c531054e",
       "version_major": 2,
       "version_minor": 0
      },
      "text/plain": [
       "  0%|          | 0/21 [00:00<?, ?it/s]"
      ]
     },
     "metadata": {},
     "output_type": "display_data"
    },
    {
     "data": {
      "application/json": {
       "ascii": false,
       "bar_format": null,
       "colour": null,
       "elapsed": 0.0037174224853515625,
       "initial": 0,
       "n": 0,
       "ncols": null,
       "nrows": null,
       "postfix": null,
       "prefix": "",
       "rate": null,
       "total": 21,
       "unit": "it",
       "unit_divisor": 1000,
       "unit_scale": false
      },
      "application/vnd.jupyter.widget-view+json": {
       "model_id": "13ac3b84c4c8411aadfb76d41dbd88af",
       "version_major": 2,
       "version_minor": 0
      },
      "text/plain": [
       "  0%|          | 0/21 [00:00<?, ?it/s]"
      ]
     },
     "metadata": {},
     "output_type": "display_data"
    },
    {
     "data": {
      "application/json": {
       "ascii": false,
       "bar_format": null,
       "colour": null,
       "elapsed": 0.003774404525756836,
       "initial": 0,
       "n": 0,
       "ncols": null,
       "nrows": null,
       "postfix": null,
       "prefix": "",
       "rate": null,
       "total": 21,
       "unit": "it",
       "unit_divisor": 1000,
       "unit_scale": false
      },
      "application/vnd.jupyter.widget-view+json": {
       "model_id": "eecbfbf4242e49fab30e3e9bcff19070",
       "version_major": 2,
       "version_minor": 0
      },
      "text/plain": [
       "  0%|          | 0/21 [00:00<?, ?it/s]"
      ]
     },
     "metadata": {},
     "output_type": "display_data"
    },
    {
     "data": {
      "application/json": {
       "ascii": false,
       "bar_format": null,
       "colour": null,
       "elapsed": 0.00372314453125,
       "initial": 0,
       "n": 0,
       "ncols": null,
       "nrows": null,
       "postfix": null,
       "prefix": "",
       "rate": null,
       "total": 2,
       "unit": "it",
       "unit_divisor": 1000,
       "unit_scale": false
      },
      "application/vnd.jupyter.widget-view+json": {
       "model_id": "9cfa70968aa642b494d8941956742fe7",
       "version_major": 2,
       "version_minor": 0
      },
      "text/plain": [
       "  0%|          | 0/2 [00:00<?, ?it/s]"
      ]
     },
     "metadata": {},
     "output_type": "display_data"
    },
    {
     "data": {
      "application/json": {
       "ascii": false,
       "bar_format": null,
       "colour": null,
       "elapsed": 0.0038025379180908203,
       "initial": 0,
       "n": 0,
       "ncols": null,
       "nrows": null,
       "postfix": null,
       "prefix": "",
       "rate": null,
       "total": 21,
       "unit": "it",
       "unit_divisor": 1000,
       "unit_scale": false
      },
      "application/vnd.jupyter.widget-view+json": {
       "model_id": "a38b594f35ac47bf9bfdfb847e253165",
       "version_major": 2,
       "version_minor": 0
      },
      "text/plain": [
       "  0%|          | 0/21 [00:00<?, ?it/s]"
      ]
     },
     "metadata": {},
     "output_type": "display_data"
    },
    {
     "data": {
      "application/json": {
       "ascii": false,
       "bar_format": null,
       "colour": null,
       "elapsed": 0.003969669342041016,
       "initial": 0,
       "n": 0,
       "ncols": null,
       "nrows": null,
       "postfix": null,
       "prefix": "",
       "rate": null,
       "total": 21,
       "unit": "it",
       "unit_divisor": 1000,
       "unit_scale": false
      },
      "application/vnd.jupyter.widget-view+json": {
       "model_id": "54d92c666dd34fb085475673d34e0b60",
       "version_major": 2,
       "version_minor": 0
      },
      "text/plain": [
       "  0%|          | 0/21 [00:00<?, ?it/s]"
      ]
     },
     "metadata": {},
     "output_type": "display_data"
    },
    {
     "data": {
      "application/json": {
       "ascii": false,
       "bar_format": null,
       "colour": null,
       "elapsed": 0.0050089359283447266,
       "initial": 0,
       "n": 0,
       "ncols": null,
       "nrows": null,
       "postfix": null,
       "prefix": "",
       "rate": null,
       "total": 21,
       "unit": "it",
       "unit_divisor": 1000,
       "unit_scale": false
      },
      "application/vnd.jupyter.widget-view+json": {
       "model_id": "6a5785b5eb7d44e386bd2efa65150d28",
       "version_major": 2,
       "version_minor": 0
      },
      "text/plain": [
       "  0%|          | 0/21 [00:00<?, ?it/s]"
      ]
     },
     "metadata": {},
     "output_type": "display_data"
    },
    {
     "data": {
      "application/json": {
       "ascii": false,
       "bar_format": null,
       "colour": null,
       "elapsed": 0.003679037094116211,
       "initial": 0,
       "n": 0,
       "ncols": null,
       "nrows": null,
       "postfix": null,
       "prefix": "",
       "rate": null,
       "total": 21,
       "unit": "it",
       "unit_divisor": 1000,
       "unit_scale": false
      },
      "application/vnd.jupyter.widget-view+json": {
       "model_id": "a8c7dfb5fc7b4665b66e9c999233d4cb",
       "version_major": 2,
       "version_minor": 0
      },
      "text/plain": [
       "  0%|          | 0/21 [00:00<?, ?it/s]"
      ]
     },
     "metadata": {},
     "output_type": "display_data"
    },
    {
     "data": {
      "application/json": {
       "ascii": false,
       "bar_format": null,
       "colour": null,
       "elapsed": 0.004728555679321289,
       "initial": 0,
       "n": 0,
       "ncols": null,
       "nrows": null,
       "postfix": null,
       "prefix": "",
       "rate": null,
       "total": 21,
       "unit": "it",
       "unit_divisor": 1000,
       "unit_scale": false
      },
      "application/vnd.jupyter.widget-view+json": {
       "model_id": "1000d8eff16d4402bddaf643be5a4656",
       "version_major": 2,
       "version_minor": 0
      },
      "text/plain": [
       "  0%|          | 0/21 [00:00<?, ?it/s]"
      ]
     },
     "metadata": {},
     "output_type": "display_data"
    },
    {
     "data": {
      "application/json": {
       "ascii": false,
       "bar_format": null,
       "colour": null,
       "elapsed": 0.0042057037353515625,
       "initial": 0,
       "n": 0,
       "ncols": null,
       "nrows": null,
       "postfix": null,
       "prefix": "",
       "rate": null,
       "total": 21,
       "unit": "it",
       "unit_divisor": 1000,
       "unit_scale": false
      },
      "application/vnd.jupyter.widget-view+json": {
       "model_id": "7274c1bd52654043bd0c994beb79c277",
       "version_major": 2,
       "version_minor": 0
      },
      "text/plain": [
       "  0%|          | 0/21 [00:00<?, ?it/s]"
      ]
     },
     "metadata": {},
     "output_type": "display_data"
    },
    {
     "data": {
      "application/json": {
       "ascii": false,
       "bar_format": null,
       "colour": null,
       "elapsed": 0.029811382293701172,
       "initial": 0,
       "n": 0,
       "ncols": null,
       "nrows": null,
       "postfix": null,
       "prefix": "",
       "rate": null,
       "total": 21,
       "unit": "it",
       "unit_divisor": 1000,
       "unit_scale": false
      },
      "application/vnd.jupyter.widget-view+json": {
       "model_id": "1f18729d359b42c6b5784c854646f55e",
       "version_major": 2,
       "version_minor": 0
      },
      "text/plain": [
       "  0%|          | 0/21 [00:00<?, ?it/s]"
      ]
     },
     "metadata": {},
     "output_type": "display_data"
    },
    {
     "data": {
      "application/json": {
       "ascii": false,
       "bar_format": null,
       "colour": null,
       "elapsed": 0.005824089050292969,
       "initial": 0,
       "n": 0,
       "ncols": null,
       "nrows": null,
       "postfix": null,
       "prefix": "",
       "rate": null,
       "total": 21,
       "unit": "it",
       "unit_divisor": 1000,
       "unit_scale": false
      },
      "application/vnd.jupyter.widget-view+json": {
       "model_id": "f3b9ee0a25dd4ae7872aac29fd3341a6",
       "version_major": 2,
       "version_minor": 0
      },
      "text/plain": [
       "  0%|          | 0/21 [00:00<?, ?it/s]"
      ]
     },
     "metadata": {},
     "output_type": "display_data"
    }
   ],
   "source": [
    "n = 1000\n",
    "betas = [1.1, 3.0]\n",
    "gammas = [2.1, 3.5]\n",
    "nlabels = [2, 3, 6, 10]\n",
    "alphas = np.arange(-10, 11)\n",
    "\n",
    "ntimes = 100\n",
    "\n",
    "results = {}\n",
    "\n",
    "for b in betas:\n",
    "    for gamma in tqdm(gammas):\n",
    "        for nlabel in nlabels:\n",
    "            for a in tqdm(alphas):\n",
    "                res = []\n",
    "                for i in range(ntimes):\n",
    "                    g = generate_graph_with_labels(b, n, gamma, nlabel, a)\n",
    "                    res.append(compute_homophily(g))\n",
    "                \n",
    "                results[(b, gamma, nlabel, a)] = res\n",
    "                    "
   ]
  },
  {
   "cell_type": "code",
   "execution_count": 44,
   "id": "4b11a87d",
   "metadata": {},
   "outputs": [
    {
     "data": {
      "text/html": [
       "<div>\n",
       "<style scoped>\n",
       "    .dataframe tbody tr th:only-of-type {\n",
       "        vertical-align: middle;\n",
       "    }\n",
       "\n",
       "    .dataframe tbody tr th {\n",
       "        vertical-align: top;\n",
       "    }\n",
       "\n",
       "    .dataframe thead th {\n",
       "        text-align: right;\n",
       "    }\n",
       "</style>\n",
       "<table border=\"1\" class=\"dataframe\">\n",
       "  <thead>\n",
       "    <tr style=\"text-align: right;\">\n",
       "      <th></th>\n",
       "      <th>beta</th>\n",
       "      <th>gamma</th>\n",
       "      <th>nlabels</th>\n",
       "      <th>alpha</th>\n",
       "      <th>i0</th>\n",
       "      <th>i1</th>\n",
       "      <th>i2</th>\n",
       "      <th>i3</th>\n",
       "      <th>i4</th>\n",
       "      <th>i5</th>\n",
       "      <th>...</th>\n",
       "      <th>i90</th>\n",
       "      <th>i91</th>\n",
       "      <th>i92</th>\n",
       "      <th>i93</th>\n",
       "      <th>i94</th>\n",
       "      <th>i95</th>\n",
       "      <th>i96</th>\n",
       "      <th>i97</th>\n",
       "      <th>i98</th>\n",
       "      <th>i99</th>\n",
       "    </tr>\n",
       "  </thead>\n",
       "  <tbody>\n",
       "    <tr>\n",
       "      <th>0</th>\n",
       "      <td>1.1</td>\n",
       "      <td>2.1</td>\n",
       "      <td>2</td>\n",
       "      <td>-10</td>\n",
       "      <td>0.709443</td>\n",
       "      <td>0.692859</td>\n",
       "      <td>0.708052</td>\n",
       "      <td>0.697165</td>\n",
       "      <td>0.704729</td>\n",
       "      <td>0.718890</td>\n",
       "      <td>...</td>\n",
       "      <td>0.702206</td>\n",
       "      <td>0.723910</td>\n",
       "      <td>0.730706</td>\n",
       "      <td>0.705848</td>\n",
       "      <td>0.699672</td>\n",
       "      <td>0.716346</td>\n",
       "      <td>0.723893</td>\n",
       "      <td>0.680633</td>\n",
       "      <td>0.719357</td>\n",
       "      <td>0.723138</td>\n",
       "    </tr>\n",
       "    <tr>\n",
       "      <th>1</th>\n",
       "      <td>1.1</td>\n",
       "      <td>2.1</td>\n",
       "      <td>2</td>\n",
       "      <td>-9</td>\n",
       "      <td>0.730080</td>\n",
       "      <td>0.745639</td>\n",
       "      <td>0.689757</td>\n",
       "      <td>0.734846</td>\n",
       "      <td>0.679073</td>\n",
       "      <td>0.720992</td>\n",
       "      <td>...</td>\n",
       "      <td>0.495541</td>\n",
       "      <td>0.711720</td>\n",
       "      <td>0.501771</td>\n",
       "      <td>0.719087</td>\n",
       "      <td>0.709504</td>\n",
       "      <td>0.716842</td>\n",
       "      <td>0.555619</td>\n",
       "      <td>0.687321</td>\n",
       "      <td>0.686847</td>\n",
       "      <td>0.725826</td>\n",
       "    </tr>\n",
       "    <tr>\n",
       "      <th>2</th>\n",
       "      <td>1.1</td>\n",
       "      <td>2.1</td>\n",
       "      <td>2</td>\n",
       "      <td>-8</td>\n",
       "      <td>0.717279</td>\n",
       "      <td>0.650208</td>\n",
       "      <td>0.703249</td>\n",
       "      <td>0.688533</td>\n",
       "      <td>0.588084</td>\n",
       "      <td>0.683719</td>\n",
       "      <td>...</td>\n",
       "      <td>0.532969</td>\n",
       "      <td>0.687410</td>\n",
       "      <td>0.647656</td>\n",
       "      <td>0.562558</td>\n",
       "      <td>0.677545</td>\n",
       "      <td>0.717147</td>\n",
       "      <td>0.493142</td>\n",
       "      <td>0.410062</td>\n",
       "      <td>0.728884</td>\n",
       "      <td>0.688980</td>\n",
       "    </tr>\n",
       "    <tr>\n",
       "      <th>3</th>\n",
       "      <td>1.1</td>\n",
       "      <td>2.1</td>\n",
       "      <td>2</td>\n",
       "      <td>-7</td>\n",
       "      <td>0.697322</td>\n",
       "      <td>0.568596</td>\n",
       "      <td>0.699094</td>\n",
       "      <td>0.713780</td>\n",
       "      <td>0.708452</td>\n",
       "      <td>0.681032</td>\n",
       "      <td>...</td>\n",
       "      <td>0.708607</td>\n",
       "      <td>0.720546</td>\n",
       "      <td>0.705080</td>\n",
       "      <td>0.717729</td>\n",
       "      <td>0.494639</td>\n",
       "      <td>0.656287</td>\n",
       "      <td>0.678108</td>\n",
       "      <td>0.690283</td>\n",
       "      <td>0.711687</td>\n",
       "      <td>0.728864</td>\n",
       "    </tr>\n",
       "    <tr>\n",
       "      <th>4</th>\n",
       "      <td>1.1</td>\n",
       "      <td>2.1</td>\n",
       "      <td>2</td>\n",
       "      <td>-6</td>\n",
       "      <td>0.737302</td>\n",
       "      <td>0.687518</td>\n",
       "      <td>0.463486</td>\n",
       "      <td>0.711753</td>\n",
       "      <td>0.520747</td>\n",
       "      <td>0.644589</td>\n",
       "      <td>...</td>\n",
       "      <td>0.687293</td>\n",
       "      <td>0.540019</td>\n",
       "      <td>0.626003</td>\n",
       "      <td>0.453063</td>\n",
       "      <td>0.711751</td>\n",
       "      <td>0.675195</td>\n",
       "      <td>0.664013</td>\n",
       "      <td>0.602113</td>\n",
       "      <td>0.430205</td>\n",
       "      <td>0.729314</td>\n",
       "    </tr>\n",
       "    <tr>\n",
       "      <th>...</th>\n",
       "      <td>...</td>\n",
       "      <td>...</td>\n",
       "      <td>...</td>\n",
       "      <td>...</td>\n",
       "      <td>...</td>\n",
       "      <td>...</td>\n",
       "      <td>...</td>\n",
       "      <td>...</td>\n",
       "      <td>...</td>\n",
       "      <td>...</td>\n",
       "      <td>...</td>\n",
       "      <td>...</td>\n",
       "      <td>...</td>\n",
       "      <td>...</td>\n",
       "      <td>...</td>\n",
       "      <td>...</td>\n",
       "      <td>...</td>\n",
       "      <td>...</td>\n",
       "      <td>...</td>\n",
       "      <td>...</td>\n",
       "      <td>...</td>\n",
       "    </tr>\n",
       "    <tr>\n",
       "      <th>331</th>\n",
       "      <td>3.0</td>\n",
       "      <td>3.5</td>\n",
       "      <td>10</td>\n",
       "      <td>6</td>\n",
       "      <td>0.807676</td>\n",
       "      <td>0.809703</td>\n",
       "      <td>0.783899</td>\n",
       "      <td>0.849964</td>\n",
       "      <td>0.806016</td>\n",
       "      <td>0.682859</td>\n",
       "      <td>...</td>\n",
       "      <td>0.832841</td>\n",
       "      <td>0.852496</td>\n",
       "      <td>0.875749</td>\n",
       "      <td>0.702674</td>\n",
       "      <td>0.788150</td>\n",
       "      <td>0.719541</td>\n",
       "      <td>0.859808</td>\n",
       "      <td>0.676188</td>\n",
       "      <td>0.767429</td>\n",
       "      <td>0.796642</td>\n",
       "    </tr>\n",
       "    <tr>\n",
       "      <th>332</th>\n",
       "      <td>3.0</td>\n",
       "      <td>3.5</td>\n",
       "      <td>10</td>\n",
       "      <td>7</td>\n",
       "      <td>0.849479</td>\n",
       "      <td>0.784621</td>\n",
       "      <td>0.734244</td>\n",
       "      <td>0.807211</td>\n",
       "      <td>0.854783</td>\n",
       "      <td>0.875408</td>\n",
       "      <td>...</td>\n",
       "      <td>0.860598</td>\n",
       "      <td>0.884863</td>\n",
       "      <td>0.832088</td>\n",
       "      <td>0.776399</td>\n",
       "      <td>0.880189</td>\n",
       "      <td>0.690497</td>\n",
       "      <td>0.877797</td>\n",
       "      <td>0.870299</td>\n",
       "      <td>0.886431</td>\n",
       "      <td>0.884503</td>\n",
       "    </tr>\n",
       "    <tr>\n",
       "      <th>333</th>\n",
       "      <td>3.0</td>\n",
       "      <td>3.5</td>\n",
       "      <td>10</td>\n",
       "      <td>8</td>\n",
       "      <td>0.883472</td>\n",
       "      <td>0.884382</td>\n",
       "      <td>0.887612</td>\n",
       "      <td>0.802194</td>\n",
       "      <td>0.848441</td>\n",
       "      <td>0.880334</td>\n",
       "      <td>...</td>\n",
       "      <td>0.827677</td>\n",
       "      <td>0.878916</td>\n",
       "      <td>0.868136</td>\n",
       "      <td>0.893420</td>\n",
       "      <td>0.849178</td>\n",
       "      <td>0.830241</td>\n",
       "      <td>0.817689</td>\n",
       "      <td>0.870932</td>\n",
       "      <td>0.885777</td>\n",
       "      <td>0.889202</td>\n",
       "    </tr>\n",
       "    <tr>\n",
       "      <th>334</th>\n",
       "      <td>3.0</td>\n",
       "      <td>3.5</td>\n",
       "      <td>10</td>\n",
       "      <td>9</td>\n",
       "      <td>0.781819</td>\n",
       "      <td>0.756027</td>\n",
       "      <td>0.853877</td>\n",
       "      <td>0.897846</td>\n",
       "      <td>0.872732</td>\n",
       "      <td>0.895020</td>\n",
       "      <td>...</td>\n",
       "      <td>0.894212</td>\n",
       "      <td>0.909908</td>\n",
       "      <td>0.896781</td>\n",
       "      <td>0.887323</td>\n",
       "      <td>0.874431</td>\n",
       "      <td>0.909996</td>\n",
       "      <td>0.881902</td>\n",
       "      <td>0.897832</td>\n",
       "      <td>0.859679</td>\n",
       "      <td>0.886236</td>\n",
       "    </tr>\n",
       "    <tr>\n",
       "      <th>335</th>\n",
       "      <td>3.0</td>\n",
       "      <td>3.5</td>\n",
       "      <td>10</td>\n",
       "      <td>10</td>\n",
       "      <td>0.907686</td>\n",
       "      <td>0.819890</td>\n",
       "      <td>0.759425</td>\n",
       "      <td>0.783583</td>\n",
       "      <td>0.815995</td>\n",
       "      <td>0.861605</td>\n",
       "      <td>...</td>\n",
       "      <td>0.871905</td>\n",
       "      <td>0.793336</td>\n",
       "      <td>0.812010</td>\n",
       "      <td>0.851868</td>\n",
       "      <td>0.854638</td>\n",
       "      <td>0.929752</td>\n",
       "      <td>0.792058</td>\n",
       "      <td>0.770610</td>\n",
       "      <td>0.910206</td>\n",
       "      <td>0.854446</td>\n",
       "    </tr>\n",
       "  </tbody>\n",
       "</table>\n",
       "<p>336 rows × 104 columns</p>\n",
       "</div>"
      ],
      "text/plain": [
       "     beta  gamma  nlabels  alpha        i0        i1        i2        i3  \\\n",
       "0     1.1    2.1        2    -10  0.709443  0.692859  0.708052  0.697165   \n",
       "1     1.1    2.1        2     -9  0.730080  0.745639  0.689757  0.734846   \n",
       "2     1.1    2.1        2     -8  0.717279  0.650208  0.703249  0.688533   \n",
       "3     1.1    2.1        2     -7  0.697322  0.568596  0.699094  0.713780   \n",
       "4     1.1    2.1        2     -6  0.737302  0.687518  0.463486  0.711753   \n",
       "..    ...    ...      ...    ...       ...       ...       ...       ...   \n",
       "331   3.0    3.5       10      6  0.807676  0.809703  0.783899  0.849964   \n",
       "332   3.0    3.5       10      7  0.849479  0.784621  0.734244  0.807211   \n",
       "333   3.0    3.5       10      8  0.883472  0.884382  0.887612  0.802194   \n",
       "334   3.0    3.5       10      9  0.781819  0.756027  0.853877  0.897846   \n",
       "335   3.0    3.5       10     10  0.907686  0.819890  0.759425  0.783583   \n",
       "\n",
       "           i4        i5  ...       i90       i91       i92       i93  \\\n",
       "0    0.704729  0.718890  ...  0.702206  0.723910  0.730706  0.705848   \n",
       "1    0.679073  0.720992  ...  0.495541  0.711720  0.501771  0.719087   \n",
       "2    0.588084  0.683719  ...  0.532969  0.687410  0.647656  0.562558   \n",
       "3    0.708452  0.681032  ...  0.708607  0.720546  0.705080  0.717729   \n",
       "4    0.520747  0.644589  ...  0.687293  0.540019  0.626003  0.453063   \n",
       "..        ...       ...  ...       ...       ...       ...       ...   \n",
       "331  0.806016  0.682859  ...  0.832841  0.852496  0.875749  0.702674   \n",
       "332  0.854783  0.875408  ...  0.860598  0.884863  0.832088  0.776399   \n",
       "333  0.848441  0.880334  ...  0.827677  0.878916  0.868136  0.893420   \n",
       "334  0.872732  0.895020  ...  0.894212  0.909908  0.896781  0.887323   \n",
       "335  0.815995  0.861605  ...  0.871905  0.793336  0.812010  0.851868   \n",
       "\n",
       "          i94       i95       i96       i97       i98       i99  \n",
       "0    0.699672  0.716346  0.723893  0.680633  0.719357  0.723138  \n",
       "1    0.709504  0.716842  0.555619  0.687321  0.686847  0.725826  \n",
       "2    0.677545  0.717147  0.493142  0.410062  0.728884  0.688980  \n",
       "3    0.494639  0.656287  0.678108  0.690283  0.711687  0.728864  \n",
       "4    0.711751  0.675195  0.664013  0.602113  0.430205  0.729314  \n",
       "..        ...       ...       ...       ...       ...       ...  \n",
       "331  0.788150  0.719541  0.859808  0.676188  0.767429  0.796642  \n",
       "332  0.880189  0.690497  0.877797  0.870299  0.886431  0.884503  \n",
       "333  0.849178  0.830241  0.817689  0.870932  0.885777  0.889202  \n",
       "334  0.874431  0.909996  0.881902  0.897832  0.859679  0.886236  \n",
       "335  0.854638  0.929752  0.792058  0.770610  0.910206  0.854446  \n",
       "\n",
       "[336 rows x 104 columns]"
      ]
     },
     "execution_count": 44,
     "metadata": {},
     "output_type": "execute_result"
    }
   ],
   "source": [
    "df = pd.DataFrame(results)\n",
    "\n",
    "df = df.T.reset_index()\n",
    "cols = [f'i{i}' for i in range(ntimes)]\n",
    "df.columns = ['beta', 'gamma', 'nlabels', 'alpha', *cols]\n",
    "df"
   ]
  },
  {
   "cell_type": "code",
   "execution_count": 108,
   "id": "b507dda8",
   "metadata": {},
   "outputs": [],
   "source": [
    "def plot_results(df_tmp, color, label):\n",
    "    x = df_tmp['alpha']\n",
    "    y_mean = np.mean([df_tmp[i] for i in cols], axis=0)\n",
    "    y_std = np.std([df_tmp[i] for i in cols], axis=0)\n",
    "    plt.plot(x, y_mean, color=color, label=label)\n",
    "    plt.fill_between(x, y_mean+y_std, y_mean-y_std, color=color, alpha=0.2)\n",
    "    plt.xlabel(r'$\\alpha$')\n",
    "    plt.ylabel('Homophily')\n",
    "    \n",
    "def plot_per_nlabel(df, nlabel):\n",
    "    colors = ['xkcd:orange', 'xkcd:royal blue', 'xkcd:moss green', 'xkcd:purple', 'xkcd:violet']\n",
    "    i = 0\n",
    "    for b in betas:\n",
    "        for gamma in gammas:\n",
    "            tmp = df[df['beta'] == b][df['gamma'] == gamma][df['nlabels'] == nlabel]\n",
    "            plot_results(tmp, colors[i], fr'$\\beta={{{b}}},\\gamma={{{gamma}}}$')\n",
    "            \n",
    "            # TODO: the limit of homophily for the random should be 1/N_L\n",
    "            plt.axhline(1/nlabel, color='black', linestyle='--', linewidth=2)\n",
    "            plt.text(7, 1/nlabel+0.02, rf'$1/{{{nlabel}}}$', fontsize=14)\n",
    "            i += 1\n",
    "            \n",
    "    plt.ylim(0.02, 1.01)\n",
    "    plt.yticks([0.1, 0.5, 1.0])"
   ]
  },
  {
   "cell_type": "code",
   "execution_count": 109,
   "id": "9e8772db",
   "metadata": {},
   "outputs": [
    {
     "data": {
      "image/png": "[encoded data removed]",
      "text/plain": [
       "<Figure size 750x750 with 4 Axes>"
      ]
     },
     "metadata": {},
     "output_type": "display_data"
    }
   ],
   "source": [
    "plt.figure(figsize=(10, 10))\n",
    "plt.subplot(2, 2, 1)\n",
    "plot_per_nlabel(df, 2)\n",
    "plt.title(r'$N_L=2$')\n",
    "\n",
    "plt.subplot(2, 2, 2)\n",
    "plot_per_nlabel(df, 3)\n",
    "plt.title(r'$N_L=3$')\n",
    "\n",
    "plt.subplot(2, 2, 3)\n",
    "plot_per_nlabel(df, 6)\n",
    "plt.title(r'$N_L=6$')\n",
    "\n",
    "plt.subplot(2, 2, 4)\n",
    "plot_per_nlabel(df, 10)\n",
    "plt.title(r'$N_L=10$')\n",
    "plt.legend(fontsize=13)\n",
    "\n",
    "plt.tight_layout()"
   ]
  }
 ],
 "metadata": {
  "kernelspec": {
   "display_name": "Python 3 (ipykernel)",
   "language": "python",
   "name": "python3"
  },
  "language_info": {
   "codemirror_mode": {
    "name": "ipython",
    "version": 3
   },
   "file_extension": ".py",
   "mimetype": "text/x-python",
   "name": "python",
   "nbconvert_exporter": "python",
   "pygments_lexer": "ipython3",
   "version": "3.10.9"
  }
 },
 "nbformat": 4,
 "nbformat_minor": 5
}
